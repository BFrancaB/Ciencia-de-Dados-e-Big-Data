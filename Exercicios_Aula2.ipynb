{
 "cells": [
  {
   "cell_type": "code",
   "execution_count": 4,
   "metadata": {},
   "outputs": [],
   "source": [
    "import numpy as np  # Importa a biblioteca NumPy para seu projeto\n",
    "import timeit   "
   ]
  },
  {
   "cell_type": "markdown",
   "metadata": {},
   "source": [
    "## Exercicio 8\n"
   ]
  },
  {
   "cell_type": "code",
   "execution_count": 5,
   "metadata": {},
   "outputs": [],
   "source": [
    "iris_dataset_url = 'https://archive.ics.uci.edu/ml/machine-learning-databases/iris/iris.data'"
   ]
  },
  {
   "cell_type": "code",
   "execution_count": 6,
   "metadata": {},
   "outputs": [],
   "source": [
    "iris = np.genfromtxt(iris_dataset_url, delimiter = ',', dtype = 'object', encoding='ascii')"
   ]
  },
  {
   "cell_type": "code",
   "execution_count": 44,
   "metadata": {},
   "outputs": [
    {
     "data": {
      "text/plain": [
       "array([[b'5.1', b'3.5', b'1.4', b'0.2', b'Iris-setosa'],\n",
       "       [b'4.9', b'3.0', b'1.4', b'0.2', b'Iris-setosa'],\n",
       "       [b'4.7', b'3.2', b'1.3', b'0.2', b'Iris-setosa']], dtype=object)"
      ]
     },
     "execution_count": 44,
     "metadata": {},
     "output_type": "execute_result"
    }
   ],
   "source": [
    "iris[:3]"
   ]
  },
  {
   "cell_type": "markdown",
   "metadata": {},
   "source": [
    "## Exercicio 9\n",
    "Extraia a coluna species do dataset importado na questão anterior para um vetor unidimensional."
   ]
  },
  {
   "cell_type": "code",
   "execution_count": 55,
   "metadata": {},
   "outputs": [
    {
     "data": {
      "text/plain": [
       "array([[b'Iris-setosa'],\n",
       "       [b'Iris-setosa'],\n",
       "       [b'Iris-setosa'],\n",
       "       [b'Iris-setosa']], dtype=object)"
      ]
     },
     "execution_count": 55,
     "metadata": {},
     "output_type": "execute_result"
    }
   ],
   "source": [
    "species = np.expand_dims(iris[:, 4], axis = 1)\n",
    "species[:4]"
   ]
  },
  {
   "cell_type": "markdown",
   "metadata": {},
   "source": [
    "## Exercicio 10\n",
    "Calcule a média, mediana e desvio padrão da primeira coluna (sepallength) do dataset Iris."
   ]
  },
  {
   "cell_type": "code",
   "execution_count": 93,
   "metadata": {},
   "outputs": [
    {
     "name": "stdout",
     "output_type": "stream",
     "text": [
      "5.843333333333334\n",
      "5.8\n",
      "0.8253012917851409\n"
     ]
    }
   ],
   "source": [
    "sepal_length = np.expand_dims(iris[:, 0], axis = 1)\n",
    "sepal_length[:4]\n",
    "\n",
    "sepal_length_int = sepal_length.astype('float')\n",
    "\n",
    "media = np.mean(sepal_length_int)\n",
    "mediana = np.median(sepal_length_int)\n",
    "desvio_padrao = sepal_length_int.std()\n",
    "\n",
    "print(media)\n",
    "print(mediana)\n",
    "print(desvio_padrao)\n"
   ]
  },
  {
   "cell_type": "markdown",
   "metadata": {},
   "source": [
    "## Exercicio 11\n",
    "Normalize a coluna (sepallength) do dataset iris de tal forma que o valor mínimo seja zero (0) e o valor máximo seja 1.\n"
   ]
  },
  {
   "cell_type": "code",
   "execution_count": 110,
   "metadata": {},
   "outputs": [
    {
     "name": "stdout",
     "output_type": "stream",
     "text": [
      "Minimo: 0.0\n",
      "Máximo: 1.0\n"
     ]
    }
   ],
   "source": [
    "sepal_length_normalizado = (sepal_length_int - sepal_length_int.min())/(sepal_length_int.max()- sepal_length_int.min())\n",
    "sepal_length_normalizado[:4]\n",
    "print(\"Minimo: \" + str(sepal_length_normalizado.min()))\n",
    "print(\"Máximo: \" + str(sepal_length_normalizado.max()))"
   ]
  },
  {
   "cell_type": "markdown",
   "metadata": {},
   "source": [
    "## Exercicio 12\n",
    "Encontre o 5º e o 95º percentil do comprimento das pétalas (sepallength) do dataset Iris."
   ]
  },
  {
   "cell_type": "code",
   "execution_count": 115,
   "metadata": {},
   "outputs": [
    {
     "name": "stdout",
     "output_type": "stream",
     "text": [
      "4.6\n",
      "7.254999999999998\n"
     ]
    }
   ],
   "source": [
    "print(np.percentile(sepal_length_int, 5))\n",
    "print(np.percentile(sepal_length_int, 95))"
   ]
  },
  {
   "cell_type": "markdown",
   "metadata": {},
   "source": [
    "## Exercicio 13\n",
    "Encontre a quantidade de valores ausentes, bem como a posição deles da primeira coluna da coluna comprimento das pétalas (sepallength), dentro do vetor abaixo:\n"
   ]
  },
  {
   "cell_type": "code",
   "execution_count": 154,
   "metadata": {},
   "outputs": [],
   "source": [
    "url = 'https://archive.ics.uci.edu/ml/machine-learning-databases/iris/iris.data' \n",
    "iris_2d = np.genfromtxt(url, delimiter=',', dtype='float') \n",
    "iris_2d[np.random.randint(150, size=20), np.random.randint(4, size=20)] = np.nan"
   ]
  },
  {
   "cell_type": "code",
   "execution_count": 125,
   "metadata": {},
   "outputs": [
    {
     "name": "stdout",
     "output_type": "stream",
     "text": [
      "5\n",
      "(array([  9,  38,  74,  87, 114], dtype=int64),)\n"
     ]
    }
   ],
   "source": [
    "np.isnan(iris_2d[:,0])\n",
    "print(np.isnan(iris_2d[:,0]).sum())\n",
    "print(np.where(np.isnan(iris_2d[:,0])))"
   ]
  },
  {
   "cell_type": "markdown",
   "metadata": {},
   "source": [
    "## Exercicio 14\n",
    "Filtre o vetor iris_2d do exercício anterior para que ele tenha: (terceira coluna (petallength) > 1.5) && (primeira coluna (sepallength) < 5.0)\n"
   ]
  },
  {
   "cell_type": "code",
   "execution_count": 151,
   "metadata": {},
   "outputs": [
    {
     "data": {
      "text/plain": [
       "array([[4.8, 3.4, 1.6, 0.2],\n",
       "       [4.8, 3.4, 1.9, 0.2],\n",
       "       [4.7, 3.2, 1.6, 0.2],\n",
       "       [4.8, 3.1, 1.6, 0.2],\n",
       "       [4.9, 2.4, 3.3, 1. ],\n",
       "       [4.9, 2.5, 4.5, 1.7]])"
      ]
     },
     "execution_count": 151,
     "metadata": {},
     "output_type": "execute_result"
    }
   ],
   "source": [
    "filtro = (iris_2d[:,2] > 1.5) & (iris_2d[:,0] < 5)\n",
    "iris_2d[filtro]"
   ]
  },
  {
   "cell_type": "markdown",
   "metadata": {},
   "source": [
    "## Exercicio 15\n",
    "Selecione as linhas do vetor iris_2d que não contenham valores nan (Not a Number)."
   ]
  },
  {
   "cell_type": "code",
   "execution_count": 129,
   "metadata": {},
   "outputs": [
    {
     "name": "stdout",
     "output_type": "stream",
     "text": [
      "(array([  0,   1,   2,   3,   4,   5,   6,   7,   8,  10,  11,  12,  13,\n",
      "        14,  15,  16,  17,  18,  19,  20,  21,  22,  23,  24,  25,  26,\n",
      "        27,  28,  29,  30,  31,  32,  33,  34,  35,  36,  37,  39,  40,\n",
      "        41,  42,  43,  44,  45,  46,  47,  48,  49,  50,  51,  52,  53,\n",
      "        54,  55,  56,  57,  58,  59,  60,  61,  62,  63,  64,  65,  66,\n",
      "        67,  68,  69,  70,  71,  72,  73,  75,  76,  77,  78,  79,  80,\n",
      "        81,  82,  83,  84,  85,  86,  88,  89,  90,  91,  92,  93,  94,\n",
      "        95,  96,  97,  98,  99, 100, 101, 102, 103, 104, 105, 106, 107,\n",
      "       108, 109, 110, 111, 112, 113, 115, 116, 117, 118, 119, 120, 121,\n",
      "       122, 123, 124, 125, 126, 127, 128, 129, 130, 131, 132, 133, 134,\n",
      "       135, 136, 137, 138, 139, 140, 141, 142, 143, 144, 145, 146, 147,\n",
      "       148, 149], dtype=int64),)\n"
     ]
    }
   ],
   "source": [
    "print(np.where(np.isnan(iris_2d[:,0]) == False))"
   ]
  },
  {
   "cell_type": "markdown",
   "metadata": {},
   "source": [
    "## Exercicio 16\n",
    "Encontre a correlação entre a primeira coluna (sepallength) e a (terceira coluna (petallength) no vetor iris_2d."
   ]
  },
  {
   "cell_type": "code",
   "execution_count": 136,
   "metadata": {},
   "outputs": [],
   "source": [
    "url = 'https://archive.ics.uci.edu/ml/machine-learning-databases/iris/iris.data'\n",
    "iris_3d = np.genfromtxt(url, delimiter=',', dtype='float', usecols=[0,1,2,3])"
   ]
  },
  {
   "cell_type": "code",
   "execution_count": 153,
   "metadata": {},
   "outputs": [
    {
     "data": {
      "text/plain": [
       "array([[1.        , 0.87175416],\n",
       "       [0.87175416, 1.        ]])"
      ]
     },
     "execution_count": 153,
     "metadata": {},
     "output_type": "execute_result"
    }
   ],
   "source": [
    "np.corrcoef(iris_3d[:,0],iris_3d[:,2])"
   ]
  },
  {
   "cell_type": "markdown",
   "metadata": {},
   "source": [
    "## Exercicio 17\n",
    "Verifique se o vetor iris_2d possui qualquer valor faltante, caso possui deverá retornar True caso contrário False."
   ]
  },
  {
   "cell_type": "code",
   "execution_count": 140,
   "metadata": {},
   "outputs": [
    {
     "data": {
      "text/plain": [
       "False"
      ]
     },
     "execution_count": 140,
     "metadata": {},
     "output_type": "execute_result"
    }
   ],
   "source": [
    "def VerificaNulo(vetor):\n",
    "    contador = np.isnan(vetor).sum()\n",
    "    if contador == 0:\n",
    "        return False\n",
    "    else:\n",
    "        return True\n",
    "\n",
    "VerificaNulo(iris_3d)"
   ]
  },
  {
   "cell_type": "markdown",
   "metadata": {},
   "source": [
    "# Exercicio 18\n",
    "Substitua todas as ocorrências de nan (Not a Number) por zeros em um vetor NumPy."
   ]
  },
  {
   "cell_type": "code",
   "execution_count": 141,
   "metadata": {},
   "outputs": [],
   "source": [
    "url = 'https://archive.ics.uci.edu/ml/machine-learning-databases/iris/iris.data'\n",
    "iris_2d = np.genfromtxt(url, delimiter=',', dtype='float', usecols=[0,1,2,3])"
   ]
  },
  {
   "cell_type": "code",
   "execution_count": 155,
   "metadata": {},
   "outputs": [
    {
     "data": {
      "text/plain": [
       "True"
      ]
     },
     "execution_count": 155,
     "metadata": {},
     "output_type": "execute_result"
    }
   ],
   "source": [
    "VerificaNulo(iris_2d)"
   ]
  },
  {
   "cell_type": "code",
   "execution_count": 156,
   "metadata": {},
   "outputs": [
    {
     "data": {
      "text/plain": [
       "(array([ 3, 35, 40, 59, 77, 81, 95], dtype=int64),)"
      ]
     },
     "execution_count": 156,
     "metadata": {},
     "output_type": "execute_result"
    }
   ],
   "source": [
    "np.where(np.isnan(iris_2d[:,0]) == True)"
   ]
  },
  {
   "cell_type": "code",
   "execution_count": 157,
   "metadata": {},
   "outputs": [
    {
     "data": {
      "text/plain": [
       "array([[nan, 3.1, 1.5, 0.2, nan],\n",
       "       [nan, 3.2, 1.2, 0.2, nan],\n",
       "       [nan, 3.5, 1.3, nan, nan],\n",
       "       [nan, 2.7, 3.9, 1.4, nan],\n",
       "       [nan, 3. , 5. , 1.7, nan],\n",
       "       [nan, 2.4, 3.7, 1. , nan],\n",
       "       [nan, 3. , 4.2, 1.2, nan]])"
      ]
     },
     "execution_count": 157,
     "metadata": {},
     "output_type": "execute_result"
    }
   ],
   "source": [
    "filtro = np.isnan(iris_2d[:,0]) == True\n",
    "iris_2d[filtro]"
   ]
  },
  {
   "cell_type": "markdown",
   "metadata": {},
   "source": [
    "\n",
    "# Exercicio 19\n",
    "Encontre e conte os valores únicos da coluna species\n",
    "\n",
    "\n"
   ]
  },
  {
   "cell_type": "code",
   "execution_count": 7,
   "metadata": {},
   "outputs": [
    {
     "name": "stdout",
     "output_type": "stream",
     "text": [
      "[b'Iris-setosa' b'Iris-versicolor' b'Iris-virginica']\n"
     ]
    }
   ],
   "source": [
    "iris_2d = np.genfromtxt('https://archive.ics.uci.edu/ml/machine-learning-databases/iris/iris.data', delimiter=',', dtype='object')\n",
    "\n",
    "print(np.unique(iris_2d[:,4]))"
   ]
  },
  {
   "cell_type": "markdown",
   "metadata": {},
   "source": [
    "# Exercicio 20\n",
    "Mapeie terceira coluna (petallength) de tal forma que os valores numéricos sejam substituídos por valores textuais, seguindo de acordo com a tabela abaixo:\n",
    "Númer -- Classificação\n",
    "Menor do que 3--Pequena\n",
    "entre 3 e 5 -- Média\n",
    "Maior ou Igual a 5--Grande"
   ]
  },
  {
   "cell_type": "code",
   "execution_count": 9,
   "metadata": {},
   "outputs": [
    {
     "data": {
      "text/plain": [
       "array([[b'5.1', b'3.5', 'Pequena', b'0.2', b'Iris-setosa'],\n",
       "       [b'4.9', b'3.0', 'Pequena', b'0.2', b'Iris-setosa'],\n",
       "       [b'4.7', b'3.2', 'Pequena', b'0.2', b'Iris-setosa'],\n",
       "       [b'4.6', b'3.1', 'Pequena', b'0.2', b'Iris-setosa'],\n",
       "       [b'5.0', b'3.6', 'Pequena', b'0.2', b'Iris-setosa'],\n",
       "       [b'5.4', b'3.9', 'Pequena', b'0.4', b'Iris-setosa'],\n",
       "       [b'4.6', b'3.4', 'Pequena', b'0.3', b'Iris-setosa'],\n",
       "       [b'5.0', b'3.4', 'Pequena', b'0.2', b'Iris-setosa'],\n",
       "       [b'4.4', b'2.9', 'Pequena', b'0.2', b'Iris-setosa'],\n",
       "       [b'4.9', b'3.1', 'Pequena', b'0.1', b'Iris-setosa'],\n",
       "       [b'5.4', b'3.7', 'Pequena', b'0.2', b'Iris-setosa'],\n",
       "       [b'4.8', b'3.4', 'Pequena', b'0.2', b'Iris-setosa'],\n",
       "       [b'4.8', b'3.0', 'Pequena', b'0.1', b'Iris-setosa'],\n",
       "       [b'4.3', b'3.0', 'Pequena', b'0.1', b'Iris-setosa'],\n",
       "       [b'5.8', b'4.0', 'Pequena', b'0.2', b'Iris-setosa'],\n",
       "       [b'5.7', b'4.4', 'Pequena', b'0.4', b'Iris-setosa'],\n",
       "       [b'5.4', b'3.9', 'Pequena', b'0.4', b'Iris-setosa'],\n",
       "       [b'5.1', b'3.5', 'Pequena', b'0.3', b'Iris-setosa'],\n",
       "       [b'5.7', b'3.8', 'Pequena', b'0.3', b'Iris-setosa'],\n",
       "       [b'5.1', b'3.8', 'Pequena', b'0.3', b'Iris-setosa'],\n",
       "       [b'5.4', b'3.4', 'Pequena', b'0.2', b'Iris-setosa'],\n",
       "       [b'5.1', b'3.7', 'Pequena', b'0.4', b'Iris-setosa'],\n",
       "       [b'4.6', b'3.6', 'Pequena', b'0.2', b'Iris-setosa'],\n",
       "       [b'5.1', b'3.3', 'Pequena', b'0.5', b'Iris-setosa'],\n",
       "       [b'4.8', b'3.4', 'Pequena', b'0.2', b'Iris-setosa'],\n",
       "       [b'5.0', b'3.0', 'Pequena', b'0.2', b'Iris-setosa'],\n",
       "       [b'5.0', b'3.4', 'Pequena', b'0.4', b'Iris-setosa'],\n",
       "       [b'5.2', b'3.5', 'Pequena', b'0.2', b'Iris-setosa'],\n",
       "       [b'5.2', b'3.4', 'Pequena', b'0.2', b'Iris-setosa'],\n",
       "       [b'4.7', b'3.2', 'Pequena', b'0.2', b'Iris-setosa'],\n",
       "       [b'4.8', b'3.1', 'Pequena', b'0.2', b'Iris-setosa'],\n",
       "       [b'5.4', b'3.4', 'Pequena', b'0.4', b'Iris-setosa'],\n",
       "       [b'5.2', b'4.1', 'Pequena', b'0.1', b'Iris-setosa'],\n",
       "       [b'5.5', b'4.2', 'Pequena', b'0.2', b'Iris-setosa'],\n",
       "       [b'4.9', b'3.1', 'Pequena', b'0.1', b'Iris-setosa'],\n",
       "       [b'5.0', b'3.2', 'Pequena', b'0.2', b'Iris-setosa'],\n",
       "       [b'5.5', b'3.5', 'Pequena', b'0.2', b'Iris-setosa'],\n",
       "       [b'4.9', b'3.1', 'Pequena', b'0.1', b'Iris-setosa'],\n",
       "       [b'4.4', b'3.0', 'Pequena', b'0.2', b'Iris-setosa'],\n",
       "       [b'5.1', b'3.4', 'Pequena', b'0.2', b'Iris-setosa'],\n",
       "       [b'5.0', b'3.5', 'Pequena', b'0.3', b'Iris-setosa'],\n",
       "       [b'4.5', b'2.3', 'Pequena', b'0.3', b'Iris-setosa'],\n",
       "       [b'4.4', b'3.2', 'Pequena', b'0.2', b'Iris-setosa'],\n",
       "       [b'5.0', b'3.5', 'Pequena', b'0.6', b'Iris-setosa'],\n",
       "       [b'5.1', b'3.8', 'Pequena', b'0.4', b'Iris-setosa'],\n",
       "       [b'4.8', b'3.0', 'Pequena', b'0.3', b'Iris-setosa'],\n",
       "       [b'5.1', b'3.8', 'Pequena', b'0.2', b'Iris-setosa'],\n",
       "       [b'4.6', b'3.2', 'Pequena', b'0.2', b'Iris-setosa'],\n",
       "       [b'5.3', b'3.7', 'Pequena', b'0.2', b'Iris-setosa'],\n",
       "       [b'5.0', b'3.3', 'Pequena', b'0.2', b'Iris-setosa'],\n",
       "       [b'7.0', b'3.2', 'Média', b'1.4', b'Iris-versicolor'],\n",
       "       [b'6.4', b'3.2', 'Média', b'1.5', b'Iris-versicolor'],\n",
       "       [b'6.9', b'3.1', 'Média', b'1.5', b'Iris-versicolor'],\n",
       "       [b'5.5', b'2.3', 'Média', b'1.3', b'Iris-versicolor'],\n",
       "       [b'6.5', b'2.8', 'Média', b'1.5', b'Iris-versicolor'],\n",
       "       [b'5.7', b'2.8', 'Média', b'1.3', b'Iris-versicolor'],\n",
       "       [b'6.3', b'3.3', 'Média', b'1.6', b'Iris-versicolor'],\n",
       "       [b'4.9', b'2.4', 'Média', b'1.0', b'Iris-versicolor'],\n",
       "       [b'6.6', b'2.9', 'Média', b'1.3', b'Iris-versicolor'],\n",
       "       [b'5.2', b'2.7', 'Média', b'1.4', b'Iris-versicolor'],\n",
       "       [b'5.0', b'2.0', 'Média', b'1.0', b'Iris-versicolor'],\n",
       "       [b'5.9', b'3.0', 'Média', b'1.5', b'Iris-versicolor'],\n",
       "       [b'6.0', b'2.2', 'Média', b'1.0', b'Iris-versicolor'],\n",
       "       [b'6.1', b'2.9', 'Média', b'1.4', b'Iris-versicolor'],\n",
       "       [b'5.6', b'2.9', 'Média', b'1.3', b'Iris-versicolor'],\n",
       "       [b'6.7', b'3.1', 'Média', b'1.4', b'Iris-versicolor'],\n",
       "       [b'5.6', b'3.0', 'Média', b'1.5', b'Iris-versicolor'],\n",
       "       [b'5.8', b'2.7', 'Média', b'1.0', b'Iris-versicolor'],\n",
       "       [b'6.2', b'2.2', 'Média', b'1.5', b'Iris-versicolor'],\n",
       "       [b'5.6', b'2.5', 'Média', b'1.1', b'Iris-versicolor'],\n",
       "       [b'5.9', b'3.2', 'Média', b'1.8', b'Iris-versicolor'],\n",
       "       [b'6.1', b'2.8', 'Média', b'1.3', b'Iris-versicolor'],\n",
       "       [b'6.3', b'2.5', 'Média', b'1.5', b'Iris-versicolor'],\n",
       "       [b'6.1', b'2.8', 'Média', b'1.2', b'Iris-versicolor'],\n",
       "       [b'6.4', b'2.9', 'Média', b'1.3', b'Iris-versicolor'],\n",
       "       [b'6.6', b'3.0', 'Média', b'1.4', b'Iris-versicolor'],\n",
       "       [b'6.8', b'2.8', 'Média', b'1.4', b'Iris-versicolor'],\n",
       "       [b'6.7', b'3.0', 'Grande', b'1.7', b'Iris-versicolor'],\n",
       "       [b'6.0', b'2.9', 'Média', b'1.5', b'Iris-versicolor'],\n",
       "       [b'5.7', b'2.6', 'Média', b'1.0', b'Iris-versicolor'],\n",
       "       [b'5.5', b'2.4', 'Média', b'1.1', b'Iris-versicolor'],\n",
       "       [b'5.5', b'2.4', 'Média', b'1.0', b'Iris-versicolor'],\n",
       "       [b'5.8', b'2.7', 'Média', b'1.2', b'Iris-versicolor'],\n",
       "       [b'6.0', b'2.7', 'Grande', b'1.6', b'Iris-versicolor'],\n",
       "       [b'5.4', b'3.0', 'Média', b'1.5', b'Iris-versicolor'],\n",
       "       [b'6.0', b'3.4', 'Média', b'1.6', b'Iris-versicolor'],\n",
       "       [b'6.7', b'3.1', 'Média', b'1.5', b'Iris-versicolor'],\n",
       "       [b'6.3', b'2.3', 'Média', b'1.3', b'Iris-versicolor'],\n",
       "       [b'5.6', b'3.0', 'Média', b'1.3', b'Iris-versicolor'],\n",
       "       [b'5.5', b'2.5', 'Média', b'1.3', b'Iris-versicolor'],\n",
       "       [b'5.5', b'2.6', 'Média', b'1.2', b'Iris-versicolor'],\n",
       "       [b'6.1', b'3.0', 'Média', b'1.4', b'Iris-versicolor'],\n",
       "       [b'5.8', b'2.6', 'Média', b'1.2', b'Iris-versicolor'],\n",
       "       [b'5.0', b'2.3', 'Média', b'1.0', b'Iris-versicolor'],\n",
       "       [b'5.6', b'2.7', 'Média', b'1.3', b'Iris-versicolor'],\n",
       "       [b'5.7', b'3.0', 'Média', b'1.2', b'Iris-versicolor'],\n",
       "       [b'5.7', b'2.9', 'Média', b'1.3', b'Iris-versicolor'],\n",
       "       [b'6.2', b'2.9', 'Média', b'1.3', b'Iris-versicolor'],\n",
       "       [b'5.1', b'2.5', 'Média', b'1.1', b'Iris-versicolor'],\n",
       "       [b'5.7', b'2.8', 'Média', b'1.3', b'Iris-versicolor'],\n",
       "       [b'6.3', b'3.3', 'Grande', b'2.5', b'Iris-virginica'],\n",
       "       [b'5.8', b'2.7', 'Grande', b'1.9', b'Iris-virginica'],\n",
       "       [b'7.1', b'3.0', 'Grande', b'2.1', b'Iris-virginica'],\n",
       "       [b'6.3', b'2.9', 'Grande', b'1.8', b'Iris-virginica'],\n",
       "       [b'6.5', b'3.0', 'Grande', b'2.2', b'Iris-virginica'],\n",
       "       [b'7.6', b'3.0', 'Grande', b'2.1', b'Iris-virginica'],\n",
       "       [b'4.9', b'2.5', 'Média', b'1.7', b'Iris-virginica'],\n",
       "       [b'7.3', b'2.9', 'Grande', b'1.8', b'Iris-virginica'],\n",
       "       [b'6.7', b'2.5', 'Grande', b'1.8', b'Iris-virginica'],\n",
       "       [b'7.2', b'3.6', 'Grande', b'2.5', b'Iris-virginica'],\n",
       "       [b'6.5', b'3.2', 'Grande', b'2.0', b'Iris-virginica'],\n",
       "       [b'6.4', b'2.7', 'Grande', b'1.9', b'Iris-virginica'],\n",
       "       [b'6.8', b'3.0', 'Grande', b'2.1', b'Iris-virginica'],\n",
       "       [b'5.7', b'2.5', 'Grande', b'2.0', b'Iris-virginica'],\n",
       "       [b'5.8', b'2.8', 'Grande', b'2.4', b'Iris-virginica'],\n",
       "       [b'6.4', b'3.2', 'Grande', b'2.3', b'Iris-virginica'],\n",
       "       [b'6.5', b'3.0', 'Grande', b'1.8', b'Iris-virginica'],\n",
       "       [b'7.7', b'3.8', 'Grande', b'2.2', b'Iris-virginica'],\n",
       "       [b'7.7', b'2.6', 'Grande', b'2.3', b'Iris-virginica'],\n",
       "       [b'6.0', b'2.2', 'Grande', b'1.5', b'Iris-virginica'],\n",
       "       [b'6.9', b'3.2', 'Grande', b'2.3', b'Iris-virginica'],\n",
       "       [b'5.6', b'2.8', 'Média', b'2.0', b'Iris-virginica'],\n",
       "       [b'7.7', b'2.8', 'Grande', b'2.0', b'Iris-virginica'],\n",
       "       [b'6.3', b'2.7', 'Média', b'1.8', b'Iris-virginica'],\n",
       "       [b'6.7', b'3.3', 'Grande', b'2.1', b'Iris-virginica'],\n",
       "       [b'7.2', b'3.2', 'Grande', b'1.8', b'Iris-virginica'],\n",
       "       [b'6.2', b'2.8', 'Média', b'1.8', b'Iris-virginica'],\n",
       "       [b'6.1', b'3.0', 'Média', b'1.8', b'Iris-virginica'],\n",
       "       [b'6.4', b'2.8', 'Grande', b'2.1', b'Iris-virginica'],\n",
       "       [b'7.2', b'3.0', 'Grande', b'1.6', b'Iris-virginica'],\n",
       "       [b'7.4', b'2.8', 'Grande', b'1.9', b'Iris-virginica'],\n",
       "       [b'7.9', b'3.8', 'Grande', b'2.0', b'Iris-virginica'],\n",
       "       [b'6.4', b'2.8', 'Grande', b'2.2', b'Iris-virginica'],\n",
       "       [b'6.3', b'2.8', 'Grande', b'1.5', b'Iris-virginica'],\n",
       "       [b'6.1', b'2.6', 'Grande', b'1.4', b'Iris-virginica'],\n",
       "       [b'7.7', b'3.0', 'Grande', b'2.3', b'Iris-virginica'],\n",
       "       [b'6.3', b'3.4', 'Grande', b'2.4', b'Iris-virginica'],\n",
       "       [b'6.4', b'3.1', 'Grande', b'1.8', b'Iris-virginica'],\n",
       "       [b'6.0', b'3.0', 'Média', b'1.8', b'Iris-virginica'],\n",
       "       [b'6.9', b'3.1', 'Grande', b'2.1', b'Iris-virginica'],\n",
       "       [b'6.7', b'3.1', 'Grande', b'2.4', b'Iris-virginica'],\n",
       "       [b'6.9', b'3.1', 'Grande', b'2.3', b'Iris-virginica'],\n",
       "       [b'5.8', b'2.7', 'Grande', b'1.9', b'Iris-virginica'],\n",
       "       [b'6.8', b'3.2', 'Grande', b'2.3', b'Iris-virginica'],\n",
       "       [b'6.7', b'3.3', 'Grande', b'2.5', b'Iris-virginica'],\n",
       "       [b'6.7', b'3.0', 'Grande', b'2.3', b'Iris-virginica'],\n",
       "       [b'6.3', b'2.5', 'Grande', b'1.9', b'Iris-virginica'],\n",
       "       [b'6.5', b'3.0', 'Grande', b'2.0', b'Iris-virginica'],\n",
       "       [b'6.2', b'3.4', 'Grande', b'2.3', b'Iris-virginica'],\n",
       "       [b'5.9', b'3.0', 'Grande', b'1.8', b'Iris-virginica']],\n",
       "      dtype=object)"
      ]
     },
     "execution_count": 9,
     "metadata": {},
     "output_type": "execute_result"
    }
   ],
   "source": [
    "iris_2d = np.genfromtxt('https://archive.ics.uci.edu/ml/machine-learning-databases/iris/iris.data', delimiter=',', dtype='object')\n",
    "petallength = np.array(iris_2d[:,2], dtype='float')\n",
    "\n",
    "for i, item in enumerate(petallength):\n",
    "    if (item < 3):\n",
    "        iris_2d[i][2] = \"Pequena\"\n",
    "    elif (item >= 3 and item < 5):\n",
    "        iris_2d[i][2] = \"Média\"\n",
    "    else:\n",
    "        iris_2d[i][2] = \"Grande\"\n",
    "iris_2d  "
   ]
  },
  {
   "cell_type": "markdown",
   "metadata": {},
   "source": [
    "## Exercicio 21\n",
    "Crie uma nova coluna chamada volume, preenchida com dados resultantes da seguinte equação:\n",
    "$$volume=\\frac{(~ Pi ~x~ Petallength ~x~ Sepal Length^2 ~)}{3}$$"
   ]
  },
  {
   "cell_type": "code",
   "execution_count": 13,
   "metadata": {},
   "outputs": [
    {
     "data": {
      "text/plain": [
       "array([[b'5.1', b'3.5', b'1.4', b'0.2', b'Iris-setosa',\n",
       "        2.8735100804834635],\n",
       "       [b'4.9', b'3.0', b'1.4', b'0.2', b'Iris-setosa',\n",
       "        2.8735100804834635],\n",
       "       [b'4.7', b'3.2', b'1.3', b'0.2', b'Iris-setosa',\n",
       "        2.3006930199789255],\n",
       "       [b'4.6', b'3.1', b'1.5', b'0.2', b'Iris-setosa',\n",
       "        3.5342917352885173],\n",
       "       [b'5.0', b'3.6', b'1.4', b'0.2', b'Iris-setosa',\n",
       "        2.8735100804834635],\n",
       "       [b'5.4', b'3.9', b'1.7', b'0.4', b'Iris-setosa',\n",
       "        5.144881569028883],\n",
       "       [b'4.6', b'3.4', b'1.4', b'0.3', b'Iris-setosa',\n",
       "        2.8735100804834635],\n",
       "       [b'5.0', b'3.4', b'1.5', b'0.2', b'Iris-setosa',\n",
       "        3.5342917352885173],\n",
       "       [b'4.4', b'2.9', b'1.4', b'0.2', b'Iris-setosa',\n",
       "        2.8735100804834635],\n",
       "       [b'4.9', b'3.1', b'1.5', b'0.1', b'Iris-setosa',\n",
       "        3.5342917352885173],\n",
       "       [b'5.4', b'3.7', b'1.5', b'0.2', b'Iris-setosa',\n",
       "        3.5342917352885173],\n",
       "       [b'4.8', b'3.4', b'1.6', b'0.2', b'Iris-setosa',\n",
       "        4.289321169701265],\n",
       "       [b'4.8', b'3.0', b'1.4', b'0.1', b'Iris-setosa',\n",
       "        2.8735100804834635],\n",
       "       [b'4.3', b'3.0', b'1.1', b'0.1', b'Iris-setosa',\n",
       "        1.393819940642672],\n",
       "       [b'5.8', b'4.0', b'1.2', b'0.2', b'Iris-setosa',\n",
       "        1.8095573684677209],\n",
       "       [b'5.7', b'4.4', b'1.5', b'0.4', b'Iris-setosa',\n",
       "        3.5342917352885173],\n",
       "       [b'5.4', b'3.9', b'1.3', b'0.4', b'Iris-setosa',\n",
       "        2.3006930199789255],\n",
       "       [b'5.1', b'3.5', b'1.4', b'0.3', b'Iris-setosa',\n",
       "        2.8735100804834635],\n",
       "       [b'5.7', b'3.8', b'1.7', b'0.3', b'Iris-setosa',\n",
       "        5.144881569028883],\n",
       "       [b'5.1', b'3.8', b'1.5', b'0.3', b'Iris-setosa',\n",
       "        3.5342917352885173],\n",
       "       [b'5.4', b'3.4', b'1.7', b'0.2', b'Iris-setosa',\n",
       "        5.144881569028883],\n",
       "       [b'5.1', b'3.7', b'1.5', b'0.4', b'Iris-setosa',\n",
       "        3.5342917352885173],\n",
       "       [b'4.6', b'3.6', b'1.0', b'0.2', b'Iris-setosa',\n",
       "        1.0471975511965976],\n",
       "       [b'5.1', b'3.3', b'1.7', b'0.5', b'Iris-setosa',\n",
       "        5.144881569028883],\n",
       "       [b'4.8', b'3.4', b'1.9', b'0.2', b'Iris-setosa',\n",
       "        7.182728003657464],\n",
       "       [b'5.0', b'3.0', b'1.6', b'0.2', b'Iris-setosa',\n",
       "        4.289321169701265],\n",
       "       [b'5.0', b'3.4', b'1.6', b'0.4', b'Iris-setosa',\n",
       "        4.289321169701265],\n",
       "       [b'5.2', b'3.5', b'1.5', b'0.2', b'Iris-setosa',\n",
       "        3.5342917352885173],\n",
       "       [b'5.2', b'3.4', b'1.4', b'0.2', b'Iris-setosa',\n",
       "        2.8735100804834635],\n",
       "       [b'4.7', b'3.2', b'1.6', b'0.2', b'Iris-setosa',\n",
       "        4.289321169701265],\n",
       "       [b'4.8', b'3.1', b'1.6', b'0.2', b'Iris-setosa',\n",
       "        4.289321169701265],\n",
       "       [b'5.4', b'3.4', b'1.5', b'0.4', b'Iris-setosa',\n",
       "        3.5342917352885173],\n",
       "       [b'5.2', b'4.1', b'1.5', b'0.1', b'Iris-setosa',\n",
       "        3.5342917352885173],\n",
       "       [b'5.5', b'4.2', b'1.4', b'0.2', b'Iris-setosa',\n",
       "        2.8735100804834635],\n",
       "       [b'4.9', b'3.1', b'1.5', b'0.1', b'Iris-setosa',\n",
       "        3.5342917352885173],\n",
       "       [b'5.0', b'3.2', b'1.2', b'0.2', b'Iris-setosa',\n",
       "        1.8095573684677209],\n",
       "       [b'5.5', b'3.5', b'1.3', b'0.2', b'Iris-setosa',\n",
       "        2.3006930199789255],\n",
       "       [b'4.9', b'3.1', b'1.5', b'0.1', b'Iris-setosa',\n",
       "        3.5342917352885173],\n",
       "       [b'4.4', b'3.0', b'1.3', b'0.2', b'Iris-setosa',\n",
       "        2.3006930199789255],\n",
       "       [b'5.1', b'3.4', b'1.5', b'0.2', b'Iris-setosa',\n",
       "        3.5342917352885173],\n",
       "       [b'5.0', b'3.5', b'1.3', b'0.3', b'Iris-setosa',\n",
       "        2.3006930199789255],\n",
       "       [b'4.5', b'2.3', b'1.3', b'0.3', b'Iris-setosa',\n",
       "        2.3006930199789255],\n",
       "       [b'4.4', b'3.2', b'1.3', b'0.2', b'Iris-setosa',\n",
       "        2.3006930199789255],\n",
       "       [b'5.0', b'3.5', b'1.6', b'0.6', b'Iris-setosa',\n",
       "        4.289321169701265],\n",
       "       [b'5.1', b'3.8', b'1.9', b'0.4', b'Iris-setosa',\n",
       "        7.182728003657464],\n",
       "       [b'4.8', b'3.0', b'1.4', b'0.3', b'Iris-setosa',\n",
       "        2.8735100804834635],\n",
       "       [b'5.1', b'3.8', b'1.6', b'0.2', b'Iris-setosa',\n",
       "        4.289321169701265],\n",
       "       [b'4.6', b'3.2', b'1.4', b'0.2', b'Iris-setosa',\n",
       "        2.8735100804834635],\n",
       "       [b'5.3', b'3.7', b'1.5', b'0.2', b'Iris-setosa',\n",
       "        3.5342917352885173],\n",
       "       [b'5.0', b'3.3', b'1.4', b'0.2', b'Iris-setosa',\n",
       "        2.8735100804834635],\n",
       "       [b'7.0', b'3.2', b'4.7', b'1.4', b'Iris-versicolor',\n",
       "        108.72319135788439],\n",
       "       [b'6.4', b'3.2', b'4.5', b'1.5', b'Iris-versicolor',\n",
       "        95.42587685278995],\n",
       "       [b'6.9', b'3.1', b'4.9', b'1.5', b'Iris-versicolor',\n",
       "        123.20174470072857],\n",
       "       [b'5.5', b'2.3', b'4.0', b'1.3', b'Iris-versicolor',\n",
       "        67.02064327658225],\n",
       "       [b'6.5', b'2.8', b'4.6', b'1.5', b'Iris-versicolor',\n",
       "        101.930020843272],\n",
       "       [b'5.7', b'2.8', b'4.5', b'1.3', b'Iris-versicolor',\n",
       "        95.42587685278995],\n",
       "       [b'6.3', b'3.3', b'4.7', b'1.6', b'Iris-versicolor',\n",
       "        108.72319135788439],\n",
       "       [b'4.9', b'2.4', b'3.3', b'1.0', b'Iris-versicolor',\n",
       "        37.63313839735213],\n",
       "       [b'6.6', b'2.9', b'4.6', b'1.3', b'Iris-versicolor',\n",
       "        101.930020843272],\n",
       "       [b'5.2', b'2.7', b'3.9', b'1.4', b'Iris-versicolor',\n",
       "        62.11871153943097],\n",
       "       [b'5.0', b'2.0', b'3.5', b'1.0', b'Iris-versicolor',\n",
       "        44.89859500755413],\n",
       "       [b'5.9', b'3.0', b'4.2', b'1.5', b'Iris-versicolor',\n",
       "        77.58477217305354],\n",
       "       [b'6.0', b'2.2', b'4.0', b'1.0', b'Iris-versicolor',\n",
       "        67.02064327658225],\n",
       "       [b'6.1', b'2.9', b'4.7', b'1.4', b'Iris-versicolor',\n",
       "        108.72319135788439],\n",
       "       [b'5.6', b'2.9', b'3.6', b'1.3', b'Iris-versicolor',\n",
       "        48.858048948628465],\n",
       "       [b'6.7', b'3.1', b'4.4', b'1.4', b'Iris-versicolor',\n",
       "        89.204476201131],\n",
       "       [b'5.6', b'3.0', b'4.5', b'1.5', b'Iris-versicolor',\n",
       "        95.42587685278995],\n",
       "       [b'5.8', b'2.7', b'4.1', b'1.0', b'Iris-versicolor',\n",
       "        72.17390242602069],\n",
       "       [b'6.2', b'2.2', b'4.5', b'1.5', b'Iris-versicolor',\n",
       "        95.42587685278995],\n",
       "       [b'5.6', b'2.5', b'3.9', b'1.1', b'Iris-versicolor',\n",
       "        62.11871153943097],\n",
       "       [b'5.9', b'3.2', b'4.8', b'1.8', b'Iris-versicolor',\n",
       "        115.81167158193414],\n",
       "       [b'6.1', b'2.8', b'4.0', b'1.3', b'Iris-versicolor',\n",
       "        67.02064327658225],\n",
       "       [b'6.3', b'2.5', b'4.9', b'1.5', b'Iris-versicolor',\n",
       "        123.20174470072857],\n",
       "       [b'6.1', b'2.8', b'4.7', b'1.2', b'Iris-versicolor',\n",
       "        108.72319135788439],\n",
       "       [b'6.4', b'2.9', b'4.3', b'1.3', b'Iris-versicolor',\n",
       "        83.25953570298789],\n",
       "       [b'6.6', b'3.0', b'4.4', b'1.4', b'Iris-versicolor',\n",
       "        89.204476201131],\n",
       "       [b'6.8', b'2.8', b'4.8', b'1.4', b'Iris-versicolor',\n",
       "        115.81167158193414],\n",
       "       [b'6.7', b'3.0', b'5.0', b'1.7', b'Iris-versicolor',\n",
       "        130.89969389957471],\n",
       "       [b'6.0', b'2.9', b'4.5', b'1.5', b'Iris-versicolor',\n",
       "        95.42587685278995],\n",
       "       [b'5.7', b'2.6', b'3.5', b'1.0', b'Iris-versicolor',\n",
       "        44.89859500755413],\n",
       "       [b'5.5', b'2.4', b'3.8', b'1.1', b'Iris-versicolor',\n",
       "        57.46182402925971],\n",
       "       [b'5.5', b'2.4', b'3.7', b'1.0', b'Iris-versicolor',\n",
       "        53.04369756076127],\n",
       "       [b'5.8', b'2.7', b'3.9', b'1.2', b'Iris-versicolor',\n",
       "        62.11871153943097],\n",
       "       [b'6.0', b'2.7', b'5.1', b'1.6', b'Iris-versicolor',\n",
       "        138.91180236377986],\n",
       "       [b'5.4', b'3.0', b'4.5', b'1.5', b'Iris-versicolor',\n",
       "        95.42587685278995],\n",
       "       [b'6.0', b'3.4', b'4.5', b'1.6', b'Iris-versicolor',\n",
       "        95.42587685278995],\n",
       "       [b'6.7', b'3.1', b'4.7', b'1.5', b'Iris-versicolor',\n",
       "        108.72319135788439],\n",
       "       [b'6.3', b'2.3', b'4.4', b'1.3', b'Iris-versicolor',\n",
       "        89.204476201131],\n",
       "       [b'5.6', b'3.0', b'4.1', b'1.3', b'Iris-versicolor',\n",
       "        72.17390242602069],\n",
       "       [b'5.5', b'2.5', b'4.0', b'1.3', b'Iris-versicolor',\n",
       "        67.02064327658225],\n",
       "       [b'5.5', b'2.6', b'4.4', b'1.2', b'Iris-versicolor',\n",
       "        89.204476201131],\n",
       "       [b'6.1', b'3.0', b'4.6', b'1.4', b'Iris-versicolor',\n",
       "        101.930020843272],\n",
       "       [b'5.8', b'2.6', b'4.0', b'1.2', b'Iris-versicolor',\n",
       "        67.02064327658225],\n",
       "       [b'5.0', b'2.3', b'3.3', b'1.0', b'Iris-versicolor',\n",
       "        37.63313839735213],\n",
       "       [b'5.6', b'2.7', b'4.2', b'1.3', b'Iris-versicolor',\n",
       "        77.58477217305354],\n",
       "       [b'5.7', b'3.0', b'4.2', b'1.2', b'Iris-versicolor',\n",
       "        77.58477217305354],\n",
       "       [b'5.7', b'2.9', b'4.2', b'1.3', b'Iris-versicolor',\n",
       "        77.58477217305354],\n",
       "       [b'6.2', b'2.9', b'4.3', b'1.3', b'Iris-versicolor',\n",
       "        83.25953570298789],\n",
       "       [b'5.1', b'2.5', b'3.0', b'1.1', b'Iris-versicolor',\n",
       "        28.274333882308138],\n",
       "       [b'5.7', b'2.8', b'4.1', b'1.3', b'Iris-versicolor',\n",
       "        72.17390242602069],\n",
       "       [b'6.3', b'3.3', b'6.0', b'2.5', b'Iris-virginica',\n",
       "        226.1946710584651],\n",
       "       [b'5.8', b'2.7', b'5.1', b'1.9', b'Iris-virginica',\n",
       "        138.91180236377986],\n",
       "       [b'7.1', b'3.0', b'5.9', b'2.1', b'Iris-virginica',\n",
       "        215.07238586720607],\n",
       "       [b'6.3', b'2.9', b'5.6', b'1.8', b'Iris-virginica',\n",
       "        183.90464515094166],\n",
       "       [b'6.5', b'3.0', b'5.8', b'2.2', b'Iris-virginica',\n",
       "        204.32080860907058],\n",
       "       [b'7.6', b'3.0', b'6.6', b'2.1', b'Iris-virginica',\n",
       "        301.065107178817],\n",
       "       [b'4.9', b'2.5', b'4.5', b'1.7', b'Iris-virginica',\n",
       "        95.42587685278995],\n",
       "       [b'7.3', b'2.9', b'6.3', b'1.8', b'Iris-virginica',\n",
       "        261.84860608405563],\n",
       "       [b'6.7', b'2.5', b'5.8', b'1.8', b'Iris-virginica',\n",
       "        204.32080860907058],\n",
       "       [b'7.2', b'3.6', b'6.1', b'2.5', b'Iris-virginica',\n",
       "        237.69394736815488],\n",
       "       [b'6.5', b'3.2', b'5.1', b'2.0', b'Iris-virginica',\n",
       "        138.91180236377986],\n",
       "       [b'6.4', b'2.7', b'5.3', b'1.9', b'Iris-virginica',\n",
       "        155.90362982949586],\n",
       "       [b'6.8', b'3.0', b'5.5', b'2.1', b'Iris-virginica',\n",
       "        174.22749258033392],\n",
       "       [b'5.7', b'2.5', b'5.0', b'2.0', b'Iris-virginica',\n",
       "        130.89969389957471],\n",
       "       [b'5.8', b'2.8', b'5.1', b'2.4', b'Iris-virginica',\n",
       "        138.91180236377986],\n",
       "       [b'6.4', b'3.2', b'5.3', b'2.3', b'Iris-virginica',\n",
       "        155.90362982949586],\n",
       "       [b'6.5', b'3.0', b'5.5', b'1.8', b'Iris-virginica',\n",
       "        174.22749258033392],\n",
       "       [b'7.7', b'3.8', b'6.7', b'2.2', b'Iris-virginica',\n",
       "        314.95827709054237],\n",
       "       [b'7.7', b'2.6', b'6.9', b'2.3', b'Iris-virginica',\n",
       "        344.01382034604325],\n",
       "       [b'6.0', b'2.2', b'5.0', b'1.5', b'Iris-virginica',\n",
       "        130.89969389957471],\n",
       "       [b'6.9', b'3.2', b'5.7', b'2.3', b'Iris-virginica',\n",
       "        193.93365609875153],\n",
       "       [b'5.6', b'2.8', b'4.9', b'2.0', b'Iris-virginica',\n",
       "        123.20174470072857],\n",
       "       [b'7.7', b'2.8', b'6.7', b'2.0', b'Iris-virginica',\n",
       "        314.95827709054237],\n",
       "       [b'6.3', b'2.7', b'4.9', b'1.8', b'Iris-virginica',\n",
       "        123.20174470072857],\n",
       "       [b'6.7', b'3.3', b'5.7', b'2.1', b'Iris-virginica',\n",
       "        193.93365609875153],\n",
       "       [b'7.2', b'3.2', b'6.0', b'1.8', b'Iris-virginica',\n",
       "        226.1946710584651],\n",
       "       [b'6.2', b'2.8', b'4.8', b'1.8', b'Iris-virginica',\n",
       "        115.81167158193414],\n",
       "       [b'6.1', b'3.0', b'4.9', b'1.8', b'Iris-virginica',\n",
       "        123.20174470072857],\n",
       "       [b'6.4', b'2.8', b'5.6', b'2.1', b'Iris-virginica',\n",
       "        183.90464515094166],\n",
       "       [b'7.2', b'3.0', b'5.8', b'1.6', b'Iris-virginica',\n",
       "        204.32080860907058],\n",
       "       [b'7.4', b'2.8', b'6.1', b'1.9', b'Iris-virginica',\n",
       "        237.69394736815488],\n",
       "       [b'7.9', b'3.8', b'6.4', b'2.0', b'Iris-virginica',\n",
       "        274.51655486088094],\n",
       "       [b'6.4', b'2.8', b'5.6', b'2.2', b'Iris-virginica',\n",
       "        183.90464515094166],\n",
       "       [b'6.3', b'2.8', b'5.1', b'1.5', b'Iris-virginica',\n",
       "        138.91180236377986],\n",
       "       [b'6.1', b'2.6', b'5.6', b'1.4', b'Iris-virginica',\n",
       "        183.90464515094166],\n",
       "       [b'7.7', b'3.0', b'6.1', b'2.3', b'Iris-virginica',\n",
       "        237.69394736815488],\n",
       "       [b'6.3', b'3.4', b'5.6', b'2.4', b'Iris-virginica',\n",
       "        183.90464515094166],\n",
       "       [b'6.4', b'3.1', b'5.5', b'1.8', b'Iris-virginica',\n",
       "        174.22749258033392],\n",
       "       [b'6.0', b'3.0', b'4.8', b'1.8', b'Iris-virginica',\n",
       "        115.81167158193414],\n",
       "       [b'6.9', b'3.1', b'5.4', b'2.1', b'Iris-virginica',\n",
       "        164.89591520162108],\n",
       "       [b'6.7', b'3.1', b'5.6', b'2.4', b'Iris-virginica',\n",
       "        183.90464515094166],\n",
       "       [b'6.9', b'3.1', b'5.1', b'2.3', b'Iris-virginica',\n",
       "        138.91180236377986],\n",
       "       [b'5.8', b'2.7', b'5.1', b'1.9', b'Iris-virginica',\n",
       "        138.91180236377986],\n",
       "       [b'6.8', b'3.2', b'5.9', b'2.3', b'Iris-virginica',\n",
       "        215.07238586720607],\n",
       "       [b'6.7', b'3.3', b'5.7', b'2.5', b'Iris-virginica',\n",
       "        193.93365609875153],\n",
       "       [b'6.7', b'3.0', b'5.2', b'2.3', b'Iris-virginica',\n",
       "        147.24435327865123],\n",
       "       [b'6.3', b'2.5', b'5.0', b'1.9', b'Iris-virginica',\n",
       "        130.89969389957471],\n",
       "       [b'6.5', b'3.0', b'5.2', b'2.0', b'Iris-virginica',\n",
       "        147.24435327865123],\n",
       "       [b'6.2', b'3.4', b'5.4', b'2.3', b'Iris-virginica',\n",
       "        164.89591520162108],\n",
       "       [b'5.9', b'3.0', b'5.1', b'1.8', b'Iris-virginica',\n",
       "        138.91180236377986]], dtype=object)"
      ]
     },
     "execution_count": 13,
     "metadata": {},
     "output_type": "execute_result"
    }
   ],
   "source": [
    "iris_2d = np.genfromtxt('https://archive.ics.uci.edu/ml/machine-learning-databases/iris/iris.data', delimiter=',', dtype='object')\n",
    "volume = []\n",
    "petallength = np.array(iris_2d[:,2], dtype='float')\n",
    "sepallength = np.array(iris_2d[:,2], dtype='float')\n",
    "\n",
    "for i, item in enumerate(petallength):\n",
    "    volume.append((np.pi*item* pow(sepallength[i],2)/3))\n",
    "    \n",
    "iris_2d_volume = np.c_[np.array(iris_2d), np.array(volume)]\n",
    "    \n",
    "iris_2d_volume"
   ]
  },
  {
   "cell_type": "markdown",
   "metadata": {},
   "source": [
    "## Exercicio 22\n",
    "Usando NumPy e o dataset iris responda: Qual é o segundo maior valor de comprimento de pétala (petallength) da espécie setosa?"
   ]
  },
  {
   "cell_type": "code",
   "execution_count": 14,
   "metadata": {},
   "outputs": [
    {
     "name": "stdout",
     "output_type": "stream",
     "text": [
      "b'1.7'\n"
     ]
    }
   ],
   "source": [
    "condicao = (iris_2d[:,4] == b'Iris-setosa')\n",
    "\n",
    "iris_2d_setosa = iris_2d[condicao]\n",
    "petallength = np.unique(np.sort(iris_2d_setosa[:,2]))\n",
    "\n",
    "print(str(petallength[len(petallength)-2]))"
   ]
  },
  {
   "cell_type": "markdown",
   "metadata": {},
   "source": [
    "## Exercicio 23\n",
    "Ordene o dataset iris com base na coluna sepallength de maneira crescente"
   ]
  },
  {
   "cell_type": "code",
   "execution_count": 15,
   "metadata": {},
   "outputs": [
    {
     "data": {
      "text/plain": [
       "array([(4.3, 3. , 1.1, 0.1, b'Iris-setosa'),\n",
       "       (4.4, 2.9, 1.4, 0.2, b'Iris-setosa'),\n",
       "       (4.4, 3. , 1.3, 0.2, b'Iris-setosa'),\n",
       "       (4.4, 3.2, 1.3, 0.2, b'Iris-setosa'),\n",
       "       (4.5, 2.3, 1.3, 0.3, b'Iris-setosa'),\n",
       "       (4.6, 3.1, 1.5, 0.2, b'Iris-setosa'),\n",
       "       (4.6, 3.2, 1.4, 0.2, b'Iris-setosa'),\n",
       "       (4.6, 3.4, 1.4, 0.3, b'Iris-setosa'),\n",
       "       (4.6, 3.6, 1. , 0.2, b'Iris-setosa'),\n",
       "       (4.7, 3.2, 1.3, 0.2, b'Iris-setosa'),\n",
       "       (4.7, 3.2, 1.6, 0.2, b'Iris-setosa'),\n",
       "       (4.8, 3. , 1.4, 0.1, b'Iris-setosa'),\n",
       "       (4.8, 3. , 1.4, 0.3, b'Iris-setosa'),\n",
       "       (4.8, 3.1, 1.6, 0.2, b'Iris-setosa'),\n",
       "       (4.8, 3.4, 1.6, 0.2, b'Iris-setosa'),\n",
       "       (4.8, 3.4, 1.9, 0.2, b'Iris-setosa'),\n",
       "       (4.9, 2.4, 3.3, 1. , b'Iris-versicolor'),\n",
       "       (4.9, 2.5, 4.5, 1.7, b'Iris-virginica'),\n",
       "       (4.9, 3. , 1.4, 0.2, b'Iris-setosa'),\n",
       "       (4.9, 3.1, 1.5, 0.1, b'Iris-setosa'),\n",
       "       (4.9, 3.1, 1.5, 0.1, b'Iris-setosa'),\n",
       "       (4.9, 3.1, 1.5, 0.1, b'Iris-setosa'),\n",
       "       (5. , 2. , 3.5, 1. , b'Iris-versicolor'),\n",
       "       (5. , 2.3, 3.3, 1. , b'Iris-versicolor'),\n",
       "       (5. , 3. , 1.6, 0.2, b'Iris-setosa'),\n",
       "       (5. , 3.2, 1.2, 0.2, b'Iris-setosa'),\n",
       "       (5. , 3.3, 1.4, 0.2, b'Iris-setosa'),\n",
       "       (5. , 3.4, 1.5, 0.2, b'Iris-setosa'),\n",
       "       (5. , 3.4, 1.6, 0.4, b'Iris-setosa'),\n",
       "       (5. , 3.5, 1.3, 0.3, b'Iris-setosa'),\n",
       "       (5. , 3.5, 1.6, 0.6, b'Iris-setosa'),\n",
       "       (5. , 3.6, 1.4, 0.2, b'Iris-setosa'),\n",
       "       (5.1, 2.5, 3. , 1.1, b'Iris-versicolor'),\n",
       "       (5.1, 3.3, 1.7, 0.5, b'Iris-setosa'),\n",
       "       (5.1, 3.4, 1.5, 0.2, b'Iris-setosa'),\n",
       "       (5.1, 3.5, 1.4, 0.2, b'Iris-setosa'),\n",
       "       (5.1, 3.5, 1.4, 0.3, b'Iris-setosa'),\n",
       "       (5.1, 3.7, 1.5, 0.4, b'Iris-setosa'),\n",
       "       (5.1, 3.8, 1.5, 0.3, b'Iris-setosa'),\n",
       "       (5.1, 3.8, 1.6, 0.2, b'Iris-setosa'),\n",
       "       (5.1, 3.8, 1.9, 0.4, b'Iris-setosa'),\n",
       "       (5.2, 2.7, 3.9, 1.4, b'Iris-versicolor'),\n",
       "       (5.2, 3.4, 1.4, 0.2, b'Iris-setosa'),\n",
       "       (5.2, 3.5, 1.5, 0.2, b'Iris-setosa'),\n",
       "       (5.2, 4.1, 1.5, 0.1, b'Iris-setosa'),\n",
       "       (5.3, 3.7, 1.5, 0.2, b'Iris-setosa'),\n",
       "       (5.4, 3. , 4.5, 1.5, b'Iris-versicolor'),\n",
       "       (5.4, 3.4, 1.5, 0.4, b'Iris-setosa'),\n",
       "       (5.4, 3.4, 1.7, 0.2, b'Iris-setosa'),\n",
       "       (5.4, 3.7, 1.5, 0.2, b'Iris-setosa'),\n",
       "       (5.4, 3.9, 1.3, 0.4, b'Iris-setosa'),\n",
       "       (5.4, 3.9, 1.7, 0.4, b'Iris-setosa'),\n",
       "       (5.5, 2.3, 4. , 1.3, b'Iris-versicolor'),\n",
       "       (5.5, 2.4, 3.7, 1. , b'Iris-versicolor'),\n",
       "       (5.5, 2.4, 3.8, 1.1, b'Iris-versicolor'),\n",
       "       (5.5, 2.5, 4. , 1.3, b'Iris-versicolor'),\n",
       "       (5.5, 2.6, 4.4, 1.2, b'Iris-versicolor'),\n",
       "       (5.5, 3.5, 1.3, 0.2, b'Iris-setosa'),\n",
       "       (5.5, 4.2, 1.4, 0.2, b'Iris-setosa'),\n",
       "       (5.6, 2.5, 3.9, 1.1, b'Iris-versicolor'),\n",
       "       (5.6, 2.7, 4.2, 1.3, b'Iris-versicolor'),\n",
       "       (5.6, 2.8, 4.9, 2. , b'Iris-virginica'),\n",
       "       (5.6, 2.9, 3.6, 1.3, b'Iris-versicolor'),\n",
       "       (5.6, 3. , 4.1, 1.3, b'Iris-versicolor'),\n",
       "       (5.6, 3. , 4.5, 1.5, b'Iris-versicolor'),\n",
       "       (5.7, 2.5, 5. , 2. , b'Iris-virginica'),\n",
       "       (5.7, 2.6, 3.5, 1. , b'Iris-versicolor'),\n",
       "       (5.7, 2.8, 4.1, 1.3, b'Iris-versicolor'),\n",
       "       (5.7, 2.8, 4.5, 1.3, b'Iris-versicolor'),\n",
       "       (5.7, 2.9, 4.2, 1.3, b'Iris-versicolor'),\n",
       "       (5.7, 3. , 4.2, 1.2, b'Iris-versicolor'),\n",
       "       (5.7, 3.8, 1.7, 0.3, b'Iris-setosa'),\n",
       "       (5.7, 4.4, 1.5, 0.4, b'Iris-setosa'),\n",
       "       (5.8, 2.6, 4. , 1.2, b'Iris-versicolor'),\n",
       "       (5.8, 2.7, 3.9, 1.2, b'Iris-versicolor'),\n",
       "       (5.8, 2.7, 4.1, 1. , b'Iris-versicolor'),\n",
       "       (5.8, 2.7, 5.1, 1.9, b'Iris-virginica'),\n",
       "       (5.8, 2.7, 5.1, 1.9, b'Iris-virginica'),\n",
       "       (5.8, 2.8, 5.1, 2.4, b'Iris-virginica'),\n",
       "       (5.8, 4. , 1.2, 0.2, b'Iris-setosa'),\n",
       "       (5.9, 3. , 4.2, 1.5, b'Iris-versicolor'),\n",
       "       (5.9, 3. , 5.1, 1.8, b'Iris-virginica'),\n",
       "       (5.9, 3.2, 4.8, 1.8, b'Iris-versicolor'),\n",
       "       (6. , 2.2, 4. , 1. , b'Iris-versicolor'),\n",
       "       (6. , 2.2, 5. , 1.5, b'Iris-virginica'),\n",
       "       (6. , 2.7, 5.1, 1.6, b'Iris-versicolor'),\n",
       "       (6. , 2.9, 4.5, 1.5, b'Iris-versicolor'),\n",
       "       (6. , 3. , 4.8, 1.8, b'Iris-virginica'),\n",
       "       (6. , 3.4, 4.5, 1.6, b'Iris-versicolor'),\n",
       "       (6.1, 2.6, 5.6, 1.4, b'Iris-virginica'),\n",
       "       (6.1, 2.8, 4. , 1.3, b'Iris-versicolor'),\n",
       "       (6.1, 2.8, 4.7, 1.2, b'Iris-versicolor'),\n",
       "       (6.1, 2.9, 4.7, 1.4, b'Iris-versicolor'),\n",
       "       (6.1, 3. , 4.6, 1.4, b'Iris-versicolor'),\n",
       "       (6.1, 3. , 4.9, 1.8, b'Iris-virginica'),\n",
       "       (6.2, 2.2, 4.5, 1.5, b'Iris-versicolor'),\n",
       "       (6.2, 2.8, 4.8, 1.8, b'Iris-virginica'),\n",
       "       (6.2, 2.9, 4.3, 1.3, b'Iris-versicolor'),\n",
       "       (6.2, 3.4, 5.4, 2.3, b'Iris-virginica'),\n",
       "       (6.3, 2.3, 4.4, 1.3, b'Iris-versicolor'),\n",
       "       (6.3, 2.5, 4.9, 1.5, b'Iris-versicolor'),\n",
       "       (6.3, 2.5, 5. , 1.9, b'Iris-virginica'),\n",
       "       (6.3, 2.7, 4.9, 1.8, b'Iris-virginica'),\n",
       "       (6.3, 2.8, 5.1, 1.5, b'Iris-virginica'),\n",
       "       (6.3, 2.9, 5.6, 1.8, b'Iris-virginica'),\n",
       "       (6.3, 3.3, 4.7, 1.6, b'Iris-versicolor'),\n",
       "       (6.3, 3.3, 6. , 2.5, b'Iris-virginica'),\n",
       "       (6.3, 3.4, 5.6, 2.4, b'Iris-virginica'),\n",
       "       (6.4, 2.7, 5.3, 1.9, b'Iris-virginica'),\n",
       "       (6.4, 2.8, 5.6, 2.1, b'Iris-virginica'),\n",
       "       (6.4, 2.8, 5.6, 2.2, b'Iris-virginica'),\n",
       "       (6.4, 2.9, 4.3, 1.3, b'Iris-versicolor'),\n",
       "       (6.4, 3.1, 5.5, 1.8, b'Iris-virginica'),\n",
       "       (6.4, 3.2, 4.5, 1.5, b'Iris-versicolor'),\n",
       "       (6.4, 3.2, 5.3, 2.3, b'Iris-virginica'),\n",
       "       (6.5, 2.8, 4.6, 1.5, b'Iris-versicolor'),\n",
       "       (6.5, 3. , 5.2, 2. , b'Iris-virginica'),\n",
       "       (6.5, 3. , 5.5, 1.8, b'Iris-virginica'),\n",
       "       (6.5, 3. , 5.8, 2.2, b'Iris-virginica'),\n",
       "       (6.5, 3.2, 5.1, 2. , b'Iris-virginica'),\n",
       "       (6.6, 2.9, 4.6, 1.3, b'Iris-versicolor'),\n",
       "       (6.6, 3. , 4.4, 1.4, b'Iris-versicolor'),\n",
       "       (6.7, 2.5, 5.8, 1.8, b'Iris-virginica'),\n",
       "       (6.7, 3. , 5. , 1.7, b'Iris-versicolor'),\n",
       "       (6.7, 3. , 5.2, 2.3, b'Iris-virginica'),\n",
       "       (6.7, 3.1, 4.4, 1.4, b'Iris-versicolor'),\n",
       "       (6.7, 3.1, 4.7, 1.5, b'Iris-versicolor'),\n",
       "       (6.7, 3.1, 5.6, 2.4, b'Iris-virginica'),\n",
       "       (6.7, 3.3, 5.7, 2.1, b'Iris-virginica'),\n",
       "       (6.7, 3.3, 5.7, 2.5, b'Iris-virginica'),\n",
       "       (6.8, 2.8, 4.8, 1.4, b'Iris-versicolor'),\n",
       "       (6.8, 3. , 5.5, 2.1, b'Iris-virginica'),\n",
       "       (6.8, 3.2, 5.9, 2.3, b'Iris-virginica'),\n",
       "       (6.9, 3.1, 4.9, 1.5, b'Iris-versicolor'),\n",
       "       (6.9, 3.1, 5.1, 2.3, b'Iris-virginica'),\n",
       "       (6.9, 3.1, 5.4, 2.1, b'Iris-virginica'),\n",
       "       (6.9, 3.2, 5.7, 2.3, b'Iris-virginica'),\n",
       "       (7. , 3.2, 4.7, 1.4, b'Iris-versicolor'),\n",
       "       (7.1, 3. , 5.9, 2.1, b'Iris-virginica'),\n",
       "       (7.2, 3. , 5.8, 1.6, b'Iris-virginica'),\n",
       "       (7.2, 3.2, 6. , 1.8, b'Iris-virginica'),\n",
       "       (7.2, 3.6, 6.1, 2.5, b'Iris-virginica'),\n",
       "       (7.3, 2.9, 6.3, 1.8, b'Iris-virginica'),\n",
       "       (7.4, 2.8, 6.1, 1.9, b'Iris-virginica'),\n",
       "       (7.6, 3. , 6.6, 2.1, b'Iris-virginica'),\n",
       "       (7.7, 2.6, 6.9, 2.3, b'Iris-virginica'),\n",
       "       (7.7, 2.8, 6.7, 2. , b'Iris-virginica'),\n",
       "       (7.7, 3. , 6.1, 2.3, b'Iris-virginica'),\n",
       "       (7.7, 3.8, 6.7, 2.2, b'Iris-virginica'),\n",
       "       (7.9, 3.8, 6.4, 2. , b'Iris-virginica')],\n",
       "      dtype=[('sepallength', '<f8'), ('sepalwidth', '<f8'), ('petallength', '<f8'), ('petalwidth', '<f8'), ('species', 'S20')])"
      ]
     },
     "execution_count": 15,
     "metadata": {},
     "output_type": "execute_result"
    }
   ],
   "source": [
    "dtype = [('sepallength', float), ('sepalwidth', float), ('petallength', float), ('petalwidth', float), ('species', 'S20')]\n",
    "iris_2d = np.genfromtxt('https://archive.ics.uci.edu/ml/machine-learning-databases/iris/iris.data', delimiter=',', dtype=dtype)       \n",
    "np.sort(iris_2d, order='sepallength')"
   ]
  },
  {
   "cell_type": "markdown",
   "metadata": {},
   "source": [
    "## Exercicio 24\n",
    "Encontre o valor mais frequente da terceira coluna (petallength) do dataset iris."
   ]
  },
  {
   "cell_type": "code",
   "execution_count": 16,
   "metadata": {},
   "outputs": [
    {
     "name": "stdout",
     "output_type": "stream",
     "text": [
      "b'1.5'\n"
     ]
    }
   ],
   "source": [
    "iris_2d = np.genfromtxt('https://archive.ics.uci.edu/ml/machine-learning-databases/iris/iris.data', delimiter=',', dtype='object')\n",
    "valores, contador = np.unique(iris_2d[:,2], return_counts=True)\n",
    "posicao = np.where(contador == contador.max())\n",
    "print(str(valores[int(posicao[0])]))"
   ]
  },
  {
   "cell_type": "markdown",
   "metadata": {},
   "source": [
    "## Exercicio 25\n",
    "Encontre a posição da primeira ocorrência de um valor maior do que 1.0 da quarta coluna (petalwidth) do dataset iris."
   ]
  },
  {
   "cell_type": "code",
   "execution_count": 17,
   "metadata": {},
   "outputs": [
    {
     "name": "stdout",
     "output_type": "stream",
     "text": [
      "50\n"
     ]
    }
   ],
   "source": [
    "iris_2d = np.genfromtxt('https://archive.ics.uci.edu/ml/machine-learning-databases/iris/iris.data', delimiter=',', dtype='float', usecols=[0,1,2,3])\n",
    "posicao = np.where(iris_2d[:,3] > 1)\n",
    "array = list(posicao[0])\n",
    "print(str(int(array[0])))"
   ]
  },
  {
   "cell_type": "markdown",
   "metadata": {},
   "source": [
    "## Exercicio 26\n",
    "Obtenha a posição dos top 5 valores maíximos do vetor abaixo:"
   ]
  },
  {
   "cell_type": "code",
   "execution_count": 18,
   "metadata": {},
   "outputs": [
    {
     "name": "stdout",
     "output_type": "stream",
     "text": [
      "[40.99501269 41.466785   42.39403048 44.67477576 48.95256545]\n"
     ]
    }
   ],
   "source": [
    "np.random.seed(100)\n",
    "vetor = np.random.uniform(1,50, 20)\n",
    "print(vetor[np.argsort(vetor)[-5:]])"
   ]
  },
  {
   "cell_type": "markdown",
   "metadata": {},
   "source": [
    "## Exercicio 27\n",
    "Encontre a média de uma coluna numérica agrupada por uma coluna categórica em uma matriz (vetor numpy 2D)"
   ]
  },
  {
   "cell_type": "code",
   "execution_count": 19,
   "metadata": {},
   "outputs": [
    {
     "name": "stdout",
     "output_type": "stream",
     "text": [
      "[[b'Iris-setosa' b'5.006']\n",
      " [b'Iris-versicolor' b'5.936']\n",
      " [b'Iris-virginica' b'6.587999999999998']]\n"
     ]
    }
   ],
   "source": [
    "\n",
    "iris_2d = np.genfromtxt('https://archive.ics.uci.edu/ml/machine-learning-databases/iris/iris.data', delimiter=',', dtype='object')\n",
    "iris_2d_setosa = iris_2d[iris_2d[:,4]==b'Iris-setosa']\n",
    "iris_2d_versicolor = iris_2d[iris_2d[:,4]==b'Iris-versicolor']\n",
    "iris_2d_virginica = iris_2d[iris_2d[:,4]==b'Iris-virginica']\n",
    "sepallength_setosa = np.array(iris_2d_setosa[:,0], dtype='float')\n",
    "sepallength_versicolor = np.array(iris_2d_versicolor[:,0], dtype='float')\n",
    "sepallength_virginica = np.array(iris_2d_virginica[:,0], dtype='float')\n",
    "species = np.array([b'Iris-setosa', b'Iris-versicolor', b'Iris-virginica'])\n",
    "media = np.array([sepallength_setosa.mean(), sepallength_versicolor.mean(), sepallength_virginica.mean()])\n",
    "print(np.c_[species, media])"
   ]
  }
 ],
 "metadata": {
  "kernelspec": {
   "display_name": "Python 3",
   "language": "python",
   "name": "python3"
  },
  "language_info": {
   "codemirror_mode": {
    "name": "ipython",
    "version": 3
   },
   "file_extension": ".py",
   "mimetype": "text/x-python",
   "name": "python",
   "nbconvert_exporter": "python",
   "pygments_lexer": "ipython3",
   "version": "3.6.5"
  }
 },
 "nbformat": 4,
 "nbformat_minor": 2
}
